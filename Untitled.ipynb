{
 "cells": [
  {
   "cell_type": "code",
   "execution_count": 2,
   "id": "4f76fe31-46f7-4252-8a57-f6689d2ab9c7",
   "metadata": {
    "tags": []
   },
   "outputs": [],
   "source": [
    "import polars as pl\n",
    "data = pl.from_repr(\"\"\"\n",
    "┌─────────────────────┬─────────────────────┬─────┐\n",
    "│ arrival_time        ┆ departure_time      ┆ ID  │\n",
    "│ ---                 ┆ ---                 ┆ --- │\n",
    "│ datetime[μs]        ┆ datetime[μs]        ┆ str │\n",
    "╞═════════════════════╪═════════════════════╪═════╡\n",
    "│ 2023-01-01 06:23:47 ┆ 2023-01-01 06:25:08 ┆ A1  │\n",
    "│ 2023-01-01 06:26:42 ┆ 2023-01-01 06:28:02 ┆ A1  │\n",
    "│ 2023-01-01 06:30:20 ┆ 2023-01-01 06:35:01 ┆ A5  │\n",
    "│ 2023-01-01 06:32:06 ┆ 2023-01-01 06:33:48 ┆ A6  │\n",
    "│ 2023-01-01 06:33:09 ┆ 2023-01-01 06:36:01 ┆ B3  │\n",
    "│ 2023-01-01 06:34:08 ┆ 2023-01-01 06:39:49 ┆ C3  │\n",
    "│ 2023-01-01 06:36:40 ┆ 2023-01-01 06:38:34 ┆ A6  │\n",
    "│ 2023-01-01 06:37:43 ┆ 2023-01-01 06:40:48 ┆ A5  │\n",
    "│ 2023-01-01 06:39:48 ┆ 2023-01-01 06:46:10 ┆ A6  │\n",
    "└─────────────────────┴─────────────────────┴─────┘\n",
    "\"\"\")"
   ]
  },
  {
   "cell_type": "code",
   "execution_count": 7,
   "id": "a98af5f2-3dfb-405e-9654-62e8c623e683",
   "metadata": {
    "tags": []
   },
   "outputs": [
    {
     "name": "stdout",
     "output_type": "stream",
     "text": [
      "['A1', 'A1', 'A5', 'A6', 'B3', 'C3', 'A6', 'A5', 'A6']\n"
     ]
    }
   ],
   "source": [
    "print(data.to_series(2).cast(pl.Utf8).to_list())"
   ]
  },
  {
   "cell_type": "code",
   "execution_count": null,
   "id": "218be411-1e32-4374-8e73-0d9c40f133fe",
   "metadata": {
    "tags": []
   },
   "outputs": [],
   "source": [
    "df = pl.DataFrame({'a': [1,2,3], 'b': [4,5,6]  , \"c\" : [6,7,8]})"
   ]
  }
 ],
 "metadata": {
  "kernelspec": {
   "display_name": "Python 3 (ipykernel)",
   "language": "python",
   "name": "python3"
  },
  "language_info": {
   "codemirror_mode": {
    "name": "ipython",
    "version": 3
   },
   "file_extension": ".py",
   "mimetype": "text/x-python",
   "name": "python",
   "nbconvert_exporter": "python",
   "pygments_lexer": "ipython3",
   "version": "3.10.9"
  }
 },
 "nbformat": 4,
 "nbformat_minor": 5
}
