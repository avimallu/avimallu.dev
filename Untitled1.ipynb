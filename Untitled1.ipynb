{
 "cells": [
  {
   "cell_type": "code",
   "execution_count": 2,
   "id": "5be6be9d-cb59-4833-b5d2-d485b48ab605",
   "metadata": {
    "tags": []
   },
   "outputs": [],
   "source": [
    "import polars as pl\n",
    "df = pl.DataFrame({'a': [1,2,3], 'b': [4,5,6]  , \"c\" : [6,7,8]})"
   ]
  },
  {
   "cell_type": "code",
   "execution_count": 22,
   "id": "cbeac661-6bf5-4736-ac47-018b89ce178e",
   "metadata": {
    "tags": []
   },
   "outputs": [],
   "source": [
    "import polars as pl # if you don't have polars, run \n",
    "                    # pip install 'polars[all]'\n",
    "data = pl.from_repr(\"\"\"\n",
    "┌─────────────────────┬─────────────────────┬─────┐\n",
    "│ arrival_time        ┆ departure_time      ┆ ID  │\n",
    "│ ---                 ┆ ---                 ┆ --- │\n",
    "│ datetime[μs]        ┆ datetime[μs]        ┆ str │\n",
    "╞═════════════════════╪═════════════════════╪═════╡\n",
    "│ 2023-01-01 06:23:47 ┆ 2023-01-01 06:25:08 ┆ A1  │\n",
    "│ 2023-01-01 06:26:42 ┆ 2023-01-01 06:28:02 ┆ A1  │\n",
    "│ 2023-01-01 06:30:20 ┆ 2023-01-01 06:35:01 ┆ A5  │\n",
    "│ 2023-01-01 06:32:06 ┆ 2023-01-01 06:33:48 ┆ A6  │\n",
    "│ 2023-01-01 06:33:09 ┆ 2023-01-01 06:36:01 ┆ B3  │\n",
    "│ 2023-01-01 06:34:08 ┆ 2023-01-01 06:39:49 ┆ C3  │\n",
    "│ 2023-01-01 06:36:40 ┆ 2023-01-01 06:38:34 ┆ A6  │\n",
    "│ 2023-01-01 06:37:43 ┆ 2023-01-01 06:40:48 ┆ A5  │\n",
    "│ 2023-01-01 06:39:48 ┆ 2023-01-01 06:46:10 ┆ A6  │\n",
    "└─────────────────────┴─────────────────────┴─────┘\n",
    "\"\"\")"
   ]
  },
  {
   "cell_type": "code",
   "execution_count": 5,
   "id": "23533f07-b063-4e0b-b429-3b822b7f8da3",
   "metadata": {
    "tags": []
   },
   "outputs": [
    {
     "data": {
      "text/html": [
       "<div><style>\n",
       ".dataframe > thead > tr > th,\n",
       ".dataframe > tbody > tr > td {\n",
       "  text-align: right;\n",
       "}\n",
       "</style>\n",
       "<small>shape: (1, 3)</small><table border=\"1\" class=\"dataframe\"><thead><tr><th>a</th><th>b</th><th>c</th></tr><tr><td>list[i64]</td><td>list[i64]</td><td>list[i64]</td></tr></thead><tbody><tr><td>[1, 2, 3]</td><td>[4, 5, 6]</td><td>[6, 7, 8]</td></tr></tbody></table></div>"
      ],
      "text/plain": [
       "shape: (1, 3)\n",
       "┌───────────┬───────────┬───────────┐\n",
       "│ a         ┆ b         ┆ c         │\n",
       "│ ---       ┆ ---       ┆ ---       │\n",
       "│ list[i64] ┆ list[i64] ┆ list[i64] │\n",
       "╞═══════════╪═══════════╪═══════════╡\n",
       "│ [1, 2, 3] ┆ [4, 5, 6] ┆ [6, 7, 8] │\n",
       "└───────────┴───────────┴───────────┘"
      ]
     },
     "execution_count": 5,
     "metadata": {},
     "output_type": "execute_result"
    }
   ],
   "source": [
    "df.select(pl.implode(df.columns))"
   ]
  },
  {
   "cell_type": "code",
   "execution_count": 9,
   "id": "6132a9de-bbfe-4dea-a38c-321ec96ba7f9",
   "metadata": {
    "tags": []
   },
   "outputs": [
    {
     "name": "stdout",
     "output_type": "stream",
     "text": [
      "shape: (3,)\n",
      "Series: '' [o][object]\n",
      "[\n",
      "\t{'a': '0', 'b': 0}\n",
      "\t{'a': '1', 'b': 1}\n",
      "\t{'a': '2', 'b': 2}\n",
      "]\n"
     ]
    }
   ],
   "source": [
    "import polars as pl\n",
    "# force use object here for demo, custom object in real production\n",
    "s=pl.Series([0,1,2], dtype=pl.Object) \n",
    "\n",
    "print(s.apply(lambda x: {\"a\":str(x), \"b\":x}, return_dtype=pl.Object))"
   ]
  },
  {
   "cell_type": "code",
   "execution_count": 14,
   "id": "e3380d33-34a4-48ba-a1ee-aa2682d5e678",
   "metadata": {
    "tags": []
   },
   "outputs": [],
   "source": [
    "data = pl.DataFrame(\n",
    "    {'geo': [\"[[-99.134,19.401],[-98.234,16.403],[-99.432,19.401]]\",\n",
    "     \"[[-99.1962,19.401],[-95.196,19.345]]\",\n",
    "     \"[[-93.196,19.401],[-94.196,19.401],[-99.196,19.401],[-99.196,19.401]]\"]})"
   ]
  },
  {
   "cell_type": "code",
   "execution_count": 19,
   "id": "07a4e50f-e763-478d-a017-72cd00d74302",
   "metadata": {
    "tags": []
   },
   "outputs": [
    {
     "data": {
      "text/html": [
       "<div><style>\n",
       ".dataframe > thead > tr > th,\n",
       ".dataframe > tbody > tr > td {\n",
       "  text-align: right;\n",
       "}\n",
       "</style>\n",
       "<small>shape: (3, 1)</small><table border=\"1\" class=\"dataframe\"><thead><tr><th>geo</th></tr><tr><td>list[str]</td></tr></thead><tbody><tr><td>[&quot;[[-99.134&quot;, &quot;19.401]&quot;, … &quot;19.401]]&quot;]</td></tr><tr><td>[&quot;[[-99.1962&quot;, &quot;19.401]&quot;, … &quot;19.345]]&quot;]</td></tr><tr><td>[&quot;[[-93.196&quot;, &quot;19.401]&quot;, … &quot;19.401]]&quot;]</td></tr></tbody></table></div>"
      ],
      "text/plain": [
       "shape: (3, 1)\n",
       "┌───────────────────────────────────┐\n",
       "│ geo                               │\n",
       "│ ---                               │\n",
       "│ list[str]                         │\n",
       "╞═══════════════════════════════════╡\n",
       "│ [\"[[-99.134\", \"19.401]\", … \"19.4… │\n",
       "│ [\"[[-99.1962\", \"19.401]\", … \"19.… │\n",
       "│ [\"[[-93.196\", \"19.401]\", … \"19.4… │\n",
       "└───────────────────────────────────┘"
      ]
     },
     "execution_count": 19,
     "metadata": {},
     "output_type": "execute_result"
    }
   ],
   "source": [
    "data.with_columns(pl.col(\"geo\").str.split(\",\").list.eval(pl.element().str.split(\")"
   ]
  },
  {
   "cell_type": "code",
   "execution_count": 45,
   "id": "0e21a58d-7c5a-4f49-bb95-b179ecbf001d",
   "metadata": {
    "tags": []
   },
   "outputs": [
    {
     "data": {
      "text/html": [
       "<div><style>\n",
       ".dataframe > thead > tr > th,\n",
       ".dataframe > tbody > tr > td {\n",
       "  text-align: right;\n",
       "}\n",
       "</style>\n",
       "<small>shape: (9, 6)</small><table border=\"1\" class=\"dataframe\"><thead><tr><th>arrival_time</th><th>departure_time</th><th>window_open</th><th>window_close</th><th>docked_trucks</th><th>docked_truck_count</th></tr><tr><td>datetime[μs]</td><td>datetime[μs]</td><td>datetime[μs]</td><td>datetime[μs]</td><td>list[str]</td><td>u64</td></tr></thead><tbody><tr><td>2023-01-01 06:23:47</td><td>2023-01-01 06:25:08</td><td>2023-01-01 06:22:47</td><td>2023-01-01 06:26:08</td><td>[&quot;A1&quot;]</td><td>1</td></tr><tr><td>2023-01-01 06:26:42</td><td>2023-01-01 06:28:02</td><td>2023-01-01 06:25:42</td><td>2023-01-01 06:29:02</td><td>[&quot;A1&quot;]</td><td>1</td></tr><tr><td>2023-01-01 06:30:20</td><td>2023-01-01 06:35:01</td><td>2023-01-01 06:29:20</td><td>2023-01-01 06:36:01</td><td>[&quot;B3&quot;, &quot;C3&quot;, … &quot;A5&quot;]</td><td>4</td></tr><tr><td>2023-01-01 06:32:06</td><td>2023-01-01 06:33:48</td><td>2023-01-01 06:31:06</td><td>2023-01-01 06:34:48</td><td>[&quot;B3&quot;, &quot;C3&quot;, … &quot;A5&quot;]</td><td>4</td></tr><tr><td>2023-01-01 06:33:09</td><td>2023-01-01 06:36:01</td><td>2023-01-01 06:32:09</td><td>2023-01-01 06:37:01</td><td>[&quot;B3&quot;, &quot;C3&quot;, … &quot;A5&quot;]</td><td>4</td></tr><tr><td>2023-01-01 06:34:08</td><td>2023-01-01 06:39:49</td><td>2023-01-01 06:33:08</td><td>2023-01-01 06:40:49</td><td>[&quot;B3&quot;, &quot;C3&quot;, … &quot;A5&quot;]</td><td>4</td></tr><tr><td>2023-01-01 06:36:40</td><td>2023-01-01 06:38:34</td><td>2023-01-01 06:35:40</td><td>2023-01-01 06:39:34</td><td>[&quot;A5&quot;, &quot;A6&quot;, … &quot;B3&quot;]</td><td>4</td></tr><tr><td>2023-01-01 06:37:43</td><td>2023-01-01 06:40:48</td><td>2023-01-01 06:36:43</td><td>2023-01-01 06:41:48</td><td>[&quot;A5&quot;, &quot;A6&quot;, &quot;C3&quot;]</td><td>3</td></tr><tr><td>2023-01-01 06:39:48</td><td>2023-01-01 06:46:10</td><td>2023-01-01 06:38:48</td><td>2023-01-01 06:47:10</td><td>[&quot;A6&quot;, &quot;A5&quot;, &quot;C3&quot;]</td><td>3</td></tr></tbody></table></div>"
      ],
      "text/plain": [
       "shape: (9, 6)\n",
       "┌────────────────┬────────────────┬────────────────┬───────────────┬───────────────┬───────────────┐\n",
       "│ arrival_time   ┆ departure_time ┆ window_open    ┆ window_close  ┆ docked_trucks ┆ docked_truck_ │\n",
       "│ ---            ┆ ---            ┆ ---            ┆ ---           ┆ ---           ┆ count         │\n",
       "│ datetime[μs]   ┆ datetime[μs]   ┆ datetime[μs]   ┆ datetime[μs]  ┆ list[str]     ┆ ---           │\n",
       "│                ┆                ┆                ┆               ┆               ┆ u64           │\n",
       "╞════════════════╪════════════════╪════════════════╪═══════════════╪═══════════════╪═══════════════╡\n",
       "│ 2023-01-01     ┆ 2023-01-01     ┆ 2023-01-01     ┆ 2023-01-01    ┆ [\"A1\"]        ┆ 1             │\n",
       "│ 06:23:47       ┆ 06:25:08       ┆ 06:22:47       ┆ 06:26:08      ┆               ┆               │\n",
       "│ 2023-01-01     ┆ 2023-01-01     ┆ 2023-01-01     ┆ 2023-01-01    ┆ [\"A1\"]        ┆ 1             │\n",
       "│ 06:26:42       ┆ 06:28:02       ┆ 06:25:42       ┆ 06:29:02      ┆               ┆               │\n",
       "│ 2023-01-01     ┆ 2023-01-01     ┆ 2023-01-01     ┆ 2023-01-01    ┆ [\"B3\", \"C3\",  ┆ 4             │\n",
       "│ 06:30:20       ┆ 06:35:01       ┆ 06:29:20       ┆ 06:36:01      ┆ … \"A5\"]       ┆               │\n",
       "│ 2023-01-01     ┆ 2023-01-01     ┆ 2023-01-01     ┆ 2023-01-01    ┆ [\"B3\", \"C3\",  ┆ 4             │\n",
       "│ 06:32:06       ┆ 06:33:48       ┆ 06:31:06       ┆ 06:34:48      ┆ … \"A5\"]       ┆               │\n",
       "│ 2023-01-01     ┆ 2023-01-01     ┆ 2023-01-01     ┆ 2023-01-01    ┆ [\"B3\", \"C3\",  ┆ 4             │\n",
       "│ 06:33:09       ┆ 06:36:01       ┆ 06:32:09       ┆ 06:37:01      ┆ … \"A5\"]       ┆               │\n",
       "│ 2023-01-01     ┆ 2023-01-01     ┆ 2023-01-01     ┆ 2023-01-01    ┆ [\"B3\", \"C3\",  ┆ 4             │\n",
       "│ 06:34:08       ┆ 06:39:49       ┆ 06:33:08       ┆ 06:40:49      ┆ … \"A5\"]       ┆               │\n",
       "│ 2023-01-01     ┆ 2023-01-01     ┆ 2023-01-01     ┆ 2023-01-01    ┆ [\"A5\", \"A6\",  ┆ 4             │\n",
       "│ 06:36:40       ┆ 06:38:34       ┆ 06:35:40       ┆ 06:39:34      ┆ … \"B3\"]       ┆               │\n",
       "│ 2023-01-01     ┆ 2023-01-01     ┆ 2023-01-01     ┆ 2023-01-01    ┆ [\"A5\", \"A6\",  ┆ 3             │\n",
       "│ 06:37:43       ┆ 06:40:48       ┆ 06:36:43       ┆ 06:41:48      ┆ \"C3\"]         ┆               │\n",
       "│ 2023-01-01     ┆ 2023-01-01     ┆ 2023-01-01     ┆ 2023-01-01    ┆ [\"A6\", \"A5\",  ┆ 3             │\n",
       "│ 06:39:48       ┆ 06:46:10       ┆ 06:38:48       ┆ 06:47:10      ┆ \"C3\"]         ┆               │\n",
       "└────────────────┴────────────────┴────────────────┴───────────────┴───────────────┴───────────────┘"
      ]
     },
     "execution_count": 45,
     "metadata": {},
     "output_type": "execute_result"
    }
   ],
   "source": [
    "import polars as pl\n",
    "import duckdb as db\n",
    "df = pl.from_repr(\"\"\"\n",
    "┌─────────────────────┬─────────────────────┬─────┐\n",
    "│ arrival_time        ┆ departure_time      ┆ ID  │\n",
    "│ ---                 ┆ ---                 ┆ --- │\n",
    "│ datetime[μs]        ┆ datetime[μs]        ┆ str │\n",
    "╞═════════════════════╪═════════════════════╪═════╡\n",
    "│ 2023-01-01 06:23:47 ┆ 2023-01-01 06:25:08 ┆ A1  │\n",
    "│ 2023-01-01 06:26:42 ┆ 2023-01-01 06:28:02 ┆ A1  │\n",
    "│ 2023-01-01 06:30:20 ┆ 2023-01-01 06:35:01 ┆ A5  │\n",
    "│ 2023-01-01 06:32:06 ┆ 2023-01-01 06:33:48 ┆ A6  │\n",
    "│ 2023-01-01 06:33:09 ┆ 2023-01-01 06:36:01 ┆ B3  │\n",
    "│ 2023-01-01 06:34:08 ┆ 2023-01-01 06:39:49 ┆ C3  │\n",
    "│ 2023-01-01 06:36:40 ┆ 2023-01-01 06:38:34 ┆ A6  │\n",
    "│ 2023-01-01 06:37:43 ┆ 2023-01-01 06:40:48 ┆ A5  │\n",
    "│ 2023-01-01 06:39:48 ┆ 2023-01-01 06:46:10 ┆ A6  │\n",
    "└─────────────────────┴─────────────────────┴─────┘\n",
    "\"\"\")\n",
    "\n",
    "db.query(\"\"\"\n",
    "SELECT\n",
    "    A.arrival_time\n",
    "    ,A.departure_time\n",
    "    ,A.arrival_time - (INTERVAL 1 MINUTE)   AS window_open\n",
    "    ,A.departure_time + (INTERVAL 1 MINUTE) AS window_close\n",
    "    ,LIST_DISTINCT(LIST(B.ID)) AS docked_trucks\n",
    "    ,LIST_UNIQUE(LIST(B.ID))   AS docked_truck_count\n",
    "FROM  data A, data B\n",
    "WHERE B.arrival_time   <= window_close\n",
    "AND   B.departure_time >= window_open\n",
    "GROUP BY 1, 2, 3, 4\n",
    "\"\"\").pl()"
   ]
  },
  {
   "cell_type": "code",
   "execution_count": 35,
   "id": "27c7ab01-95c4-4e07-8432-49409d927739",
   "metadata": {
    "tags": []
   },
   "outputs": [
    {
     "data": {
      "text/plain": [
       "┌─────────────────────┬─────────────────────┬─────────────────────┬───┬──────────────────┬────────────────────┐\n",
       "│    arrival_time     │   departure_time    │     window_open     │ … │  docked_trucks   │ docked_truck_count │\n",
       "│      timestamp      │      timestamp      │      timestamp      │   │    varchar[]     │       uint64       │\n",
       "├─────────────────────┼─────────────────────┼─────────────────────┼───┼──────────────────┼────────────────────┤\n",
       "│ 2023-01-01 06:23:47 │ 2023-01-01 06:25:08 │ 2023-01-01 06:22:47 │ … │ [A1]             │                  1 │\n",
       "│ 2023-01-01 06:26:42 │ 2023-01-01 06:28:02 │ 2023-01-01 06:25:42 │ … │ [A1]             │                  1 │\n",
       "│ 2023-01-01 06:30:20 │ 2023-01-01 06:35:01 │ 2023-01-01 06:29:20 │ … │ [B3, C3, A6, A5] │                  4 │\n",
       "│ 2023-01-01 06:32:06 │ 2023-01-01 06:33:48 │ 2023-01-01 06:31:06 │ … │ [B3, C3, A6, A5] │                  4 │\n",
       "│ 2023-01-01 06:33:09 │ 2023-01-01 06:36:01 │ 2023-01-01 06:32:09 │ … │ [B3, C3, A6, A5] │                  4 │\n",
       "│ 2023-01-01 06:34:08 │ 2023-01-01 06:39:49 │ 2023-01-01 06:33:08 │ … │ [B3, C3, A6, A5] │                  4 │\n",
       "│ 2023-01-01 06:36:40 │ 2023-01-01 06:38:34 │ 2023-01-01 06:35:40 │ … │ [A5, A6, C3, B3] │                  4 │\n",
       "│ 2023-01-01 06:37:43 │ 2023-01-01 06:40:48 │ 2023-01-01 06:36:43 │ … │ [A5, A6, C3]     │                  3 │\n",
       "│ 2023-01-01 06:39:48 │ 2023-01-01 06:46:10 │ 2023-01-01 06:38:48 │ … │ [A6, A5, C3]     │                  3 │\n",
       "├─────────────────────┴─────────────────────┴─────────────────────┴───┴──────────────────┴────────────────────┤\n",
       "│ 9 rows                                                                                  6 columns (5 shown) │\n",
       "└─────────────────────────────────────────────────────────────────────────────────────────────────────────────┘"
      ]
     },
     "execution_count": 35,
     "metadata": {},
     "output_type": "execute_result"
    }
   ],
   "source": [
    "import duckdb as db\n",
    "db.query(\"\"\"\n",
    "SELECT\n",
    "     A.arrival_time\n",
    "    ,A.departure_time\n",
    "    ,A.window_open\n",
    "    ,A.window_close\n",
    "    ,LIST_DISTINCT(LIST(B.ID)) AS docked_trucks\n",
    "    ,LIST_UNIQUE(LIST(B.ID))   AS docked_truck_count\n",
    "\n",
    "FROM (\n",
    "    SELECT *\n",
    "        ,arrival_time   - (INTERVAL 1 MINUTE) AS window_open\n",
    "        ,departure_time + (INTERVAL 1 MINUTE) AS window_close\n",
    "    FROM data) A\n",
    "\n",
    "LEFT JOIN data B\n",
    "\n",
    "ON (\n",
    "    B.arrival_time   <= A.window_close AND\n",
    "    B.departure_time >= A.window_open\n",
    ")\n",
    "GROUP BY 1, 2, 3, 4\n",
    "\"\"\")"
   ]
  }
 ],
 "metadata": {
  "kernelspec": {
   "display_name": "Python 3 (ipykernel)",
   "language": "python",
   "name": "python3"
  },
  "language_info": {
   "codemirror_mode": {
    "name": "ipython",
    "version": 3
   },
   "file_extension": ".py",
   "mimetype": "text/x-python",
   "name": "python",
   "nbconvert_exporter": "python",
   "pygments_lexer": "ipython3",
   "version": "3.10.9"
  }
 },
 "nbformat": 4,
 "nbformat_minor": 5
}
